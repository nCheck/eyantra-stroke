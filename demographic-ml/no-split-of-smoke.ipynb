{
 "cells": [
  {
   "cell_type": "code",
   "execution_count": 34,
   "metadata": {},
   "outputs": [],
   "source": [
    "import pandas as pd\n",
    "import numpy as np\n",
    "from sklearn.model_selection import train_test_split\n",
    "\n",
    "#Plot\n",
    "import matplotlib.pyplot as plt \n",
    "plt.rc(\"font\", size=14)\n",
    "import seaborn as sns\n",
    "sns.set(style=\"white\") #white background style for seaborn plots\n",
    "sns.set(style=\"whitegrid\", color_codes=True)\n",
    "\n",
    "testData = pd.read_csv(\"test.csv\")\n",
    "testY = pd.read_csv(\"output.csv\")\n",
    "testData['stroke'] = testY['stroke']\n",
    "trainData = pd.read_csv(\"train.csv\")\n",
    "\n",
    "#Not Significant for Strokes\n",
    "\n",
    "trainData = trainData.drop( columns=['ever_married', 'gender', 'id'] )\n",
    "testData = testData.drop( columns=['ever_married', 'gender', 'id'] )\n",
    "\n",
    "#Filling Missing BMI Data === train\n",
    "\n",
    "temp = trainData['bmi'].mean() + trainData['bmi'].median()\n",
    "temp /= 2\n",
    "temp\n",
    "trainData['bmi'] = trainData['bmi'].fillna(temp)\n",
    "trainData['smoking_status'] = trainData['smoking_status'].fillna(\"unknown\")\n",
    "\n",
    "#Filling Missing BMI Data ===test\n",
    "\n",
    "temp = testData['bmi'].mean() + testData['bmi'].median()\n",
    "temp /= 2\n",
    "temp\n",
    "testData['bmi'] = testData['bmi'].fillna(temp)\n",
    "testData['smoking_status'] = testData['smoking_status'].fillna(\"unknown\")"
   ]
  },
  {
   "cell_type": "code",
   "execution_count": 35,
   "metadata": {},
   "outputs": [
    {
     "data": {
      "text/plain": [
       "Counter({0: 56267, 1: 5734})"
      ]
     },
     "execution_count": 35,
     "metadata": {},
     "output_type": "execute_result"
    }
   ],
   "source": [
    "data = trainData.append(testData)\n",
    "\n",
    "from collections import Counter\n",
    "\n",
    "Counter( data['stroke'] )"
   ]
  },
  {
   "cell_type": "code",
   "execution_count": 68,
   "metadata": {},
   "outputs": [],
   "source": [
    "data.to_csv(path_or_buf='data.csv')"
   ]
  },
  {
   "cell_type": "code",
   "execution_count": 36,
   "metadata": {},
   "outputs": [],
   "source": [
    "from sklearn.model_selection import train_test_split\n",
    "\n",
    "#Train Splitter\n",
    "\n",
    "x_train, x_test, y_train, y_test = train_test_split(data.drop( columns=['stroke'] ),\n",
    "                                                    np.ravel( data['stroke'] , order='C' )  ,\n",
    "                                                    test_size=0.25, random_state=0)"
   ]
  },
  {
   "cell_type": "code",
   "execution_count": 32,
   "metadata": {},
   "outputs": [
    {
     "name": "stdout",
     "output_type": "stream",
     "text": [
      "                age  hypertension  heart_disease  avg_glucose_level  \\\n",
      "count  46500.000000  46500.000000   46500.000000       46500.000000   \n",
      "mean      42.153671      0.093527       0.047935         104.332569   \n",
      "std       22.544443      0.291173       0.213632          42.845126   \n",
      "min        0.080000      0.000000       0.000000          55.000000   \n",
      "25%       24.000000      0.000000       0.000000          77.480000   \n",
      "50%       44.000000      0.000000       0.000000          91.600000   \n",
      "75%       60.000000      0.000000       0.000000         112.142500   \n",
      "max       82.000000      1.000000       1.000000         291.050000   \n",
      "\n",
      "                bmi  work_type_Govt_job  work_type_Never_worked  \\\n",
      "count  46500.000000        46500.000000            46500.000000   \n",
      "mean      28.564693            0.125054                0.003892   \n",
      "std        7.648760            0.330783                0.062269   \n",
      "min       10.100000            0.000000                0.000000   \n",
      "25%       23.400000            0.000000                0.000000   \n",
      "50%       28.000000            0.000000                0.000000   \n",
      "75%       32.600000            0.000000                0.000000   \n",
      "max       97.600000            1.000000                1.000000   \n",
      "\n",
      "       work_type_Private  work_type_Self-employed  work_type_children  \\\n",
      "count       46500.000000             46500.000000        46500.000000   \n",
      "mean            0.573462                 0.155269            0.142323   \n",
      "std             0.494579                 0.362165            0.349384   \n",
      "min             0.000000                 0.000000            0.000000   \n",
      "25%             0.000000                 0.000000            0.000000   \n",
      "50%             1.000000                 0.000000            0.000000   \n",
      "75%             1.000000                 0.000000            0.000000   \n",
      "max             1.000000                 1.000000            1.000000   \n",
      "\n",
      "       res_type_Rural  res_type_Urban  smoke_formerly smoked  \\\n",
      "count    46500.000000    46500.000000           46500.000000   \n",
      "mean         0.499247        0.500753               0.173634   \n",
      "std          0.500005        0.500005               0.378799   \n",
      "min          0.000000        0.000000               0.000000   \n",
      "25%          0.000000        0.000000               0.000000   \n",
      "50%          0.000000        1.000000               0.000000   \n",
      "75%          1.000000        1.000000               0.000000   \n",
      "max          1.000000        1.000000               1.000000   \n",
      "\n",
      "       smoke_never smoked  smoke_smokes  smoke_unknown  \n",
      "count        46500.000000  46500.000000   46500.000000  \n",
      "mean             0.368194      0.148925       0.309247  \n",
      "std              0.482319      0.356018       0.462188  \n",
      "min              0.000000      0.000000       0.000000  \n",
      "25%              0.000000      0.000000       0.000000  \n",
      "50%              0.000000      0.000000       0.000000  \n",
      "75%              1.000000      0.000000       1.000000  \n",
      "max              1.000000      1.000000       1.000000  \n"
     ]
    }
   ],
   "source": [
    "# print( Counter( y_train ) )\n",
    "# print( Counter( y_test ) )\n",
    "print( x_train.describe() )"
   ]
  },
  {
   "cell_type": "code",
   "execution_count": 37,
   "metadata": {},
   "outputs": [],
   "source": [
    "#Train Data\n",
    "\n",
    "x_train = pd.get_dummies( x_train, \n",
    "                             columns=[ 'work_type' , 'Residence_type', 'smoking_status']\n",
    "                            , prefix= ['work_type' , 'res_type', 'smoke'] )\n",
    "\n",
    "\n",
    "#Test Data\n",
    "x_test = pd.get_dummies( x_test,\n",
    "                             columns=[ 'work_type' , 'Residence_type', 'smoking_status']\n",
    "                            , prefix= ['work_type' , 'res_type', 'smoke'] )\n",
    "\n"
   ]
  },
  {
   "cell_type": "code",
   "execution_count": 39,
   "metadata": {},
   "outputs": [
    {
     "name": "stderr",
     "output_type": "stream",
     "text": [
      "/home/ncheck/anaconda3/envs/deepenv/lib/python3.6/site-packages/sklearn/utils/validation.py:761: DataConversionWarning: A column-vector y was passed when a 1d array was expected. Please change the shape of y to (n_samples, ), for example using ravel().\n",
      "  y = column_or_1d(y, warn=True)\n"
     ]
    }
   ],
   "source": [
    "#Sampling for removing imbalance\n",
    "\n",
    "from imblearn.over_sampling import SMOTE,RandomOverSampler,ADASYN\n",
    "smote = RandomOverSampler(random_state=0)\n",
    "\n",
    "xcols = x_train.columns\n",
    "x_train, y_train = smote.fit_sample(x_train, y_train)\n",
    "\n",
    "x_train = pd.DataFrame( x_train , columns=xcols )\n",
    "y_train = pd.DataFrame( y_train , columns=['stroke'] )"
   ]
  },
  {
   "cell_type": "code",
   "execution_count": 41,
   "metadata": {},
   "outputs": [],
   "source": [
    "import warnings\n",
    "warnings.filterwarnings(\"ignore\")"
   ]
  },
  {
   "cell_type": "code",
   "execution_count": 43,
   "metadata": {},
   "outputs": [
    {
     "name": "stdout",
     "output_type": "stream",
     "text": [
      "0.09470356751177343\n",
      "[[    0 14033]\n",
      " [    0  1468]]\n"
     ]
    }
   ],
   "source": [
    "#SVM\n",
    "from sklearn import metrics\n",
    "from sklearn.svm import LinearSVC\n",
    "\n",
    "model = LinearSVC()\n",
    "\n",
    "model.fit(x_train, y_train)\n",
    "\n",
    "\n",
    "predictions = model.predict(x_test)\n",
    "\n",
    "print(model.score(x_test, y_test))\n",
    "print(metrics.confusion_matrix(y_test, predictions))"
   ]
  },
  {
   "cell_type": "code",
   "execution_count": 44,
   "metadata": {},
   "outputs": [
    {
     "name": "stdout",
     "output_type": "stream",
     "text": [
      "0.5919618089155538\n",
      "[[8480 5553]\n",
      " [ 772  696]]\n"
     ]
    }
   ],
   "source": [
    "## RidgeClassifier\n",
    "\n",
    "from sklearn import linear_model\n",
    "\n",
    "model = linear_model.RidgeClassifier()\n",
    "\n",
    "model.fit(x_train, y_train)\n",
    "\n",
    "\n",
    "predictions = model.predict(x_test)\n",
    "\n",
    "print(model.score(x_test, y_test))\n",
    "print(metrics.confusion_matrix(y_test, predictions))\n"
   ]
  },
  {
   "cell_type": "code",
   "execution_count": 66,
   "metadata": {},
   "outputs": [
    {
     "name": "stdout",
     "output_type": "stream",
     "text": [
      "0.5920263208825237\n",
      "[[8481 5552]\n",
      " [ 772  696]]\n"
     ]
    }
   ],
   "source": [
    "#Logistic Reg\n",
    "\n",
    "from sklearn.linear_model import LogisticRegression as LR\n",
    "\n",
    "model = LR()\n",
    "\n",
    "good = ['age', 'avg_glucose_level',\n",
    "        'bmi', 'work_type_Private', 'res_type_Urban', 'smoke_never smoked', 'smoke_smokes', 'smoke_unknown']\n",
    "\n",
    "X = x_train\n",
    "x = x_test\n",
    "model.fit(X, y_train)\n",
    "\n",
    "\n",
    "predictions = model.predict(x)\n",
    "\n",
    "print(model.score(x, y_test))\n",
    "print(metrics.confusion_matrix(y_test, predictions))"
   ]
  },
  {
   "cell_type": "code",
   "execution_count": 57,
   "metadata": {},
   "outputs": [
    {
     "name": "stdout",
     "output_type": "stream",
     "text": [
      "Selected features: ['age', 'hypertension', 'avg_glucose_level', 'bmi', 'work_type_Govt_job', 'work_type_Private', 'work_type_Self-employed', 'res_type_Urban', 'smoke_formerly smoked', 'smoke_never smoked', 'smoke_smokes', 'smoke_unknown']\n"
     ]
    }
   ],
   "source": [
    "from sklearn.tree import DecisionTreeClassifier\n",
    "from sklearn.feature_selection import RFE\n",
    "\n",
    "model = DecisionTreeClassifier()\n",
    "# create the RFE model and select 8 attributes\n",
    "rfe = RFE(model, 12)\n",
    "rfe = rfe.fit(x_train, y_train)\n",
    "# summarize the selection of the attributes\n",
    "print('Selected features: %s' % list(x_train.columns[rfe.support_]))"
   ]
  },
  {
   "cell_type": "code",
   "execution_count": 62,
   "metadata": {},
   "outputs": [
    {
     "name": "stdout",
     "output_type": "stream",
     "text": [
      "0.8271079285207406\n",
      "[[12674  1359]\n",
      " [ 1321   147]]\n"
     ]
    }
   ],
   "source": [
    "good = ['age', 'avg_glucose_level',\n",
    "        'bmi', 'work_type_Private', 'res_type_Urban', 'smoke_never smoked', 'smoke_smokes', 'smoke_unknown']\n",
    "\n",
    "\n",
    "X = x_train\n",
    "x = x_test\n",
    "model.fit(X, y_train)\n",
    "\n",
    "\n",
    "predictions = model.predict(x)\n",
    "\n",
    "print(model.score(x, y_test))\n",
    "print(metrics.confusion_matrix(y_test, predictions))"
   ]
  }
 ],
 "metadata": {
  "kernelspec": {
   "display_name": "Python 3",
   "language": "python",
   "name": "python3"
  },
  "language_info": {
   "codemirror_mode": {
    "name": "ipython",
    "version": 3
   },
   "file_extension": ".py",
   "mimetype": "text/x-python",
   "name": "python",
   "nbconvert_exporter": "python",
   "pygments_lexer": "ipython3",
   "version": "3.6.8"
  }
 },
 "nbformat": 4,
 "nbformat_minor": 2
}
