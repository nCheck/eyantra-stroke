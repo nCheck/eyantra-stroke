{
 "cells": [
  {
   "cell_type": "code",
   "execution_count": 1,
   "metadata": {},
   "outputs": [],
   "source": [
    "import pandas as pd\n",
    "import numpy as np\n",
    "from sklearn.model_selection import train_test_split\n",
    "\n",
    "#Plot\n",
    "import matplotlib.pyplot as plt \n",
    "plt.rc(\"font\", size=14)\n",
    "import seaborn as sns\n",
    "sns.set(style=\"white\") #white background style for seaborn plots\n",
    "sns.set(style=\"whitegrid\", color_codes=True)\n",
    "\n",
    "testData = pd.read_csv(\"test.csv\")\n",
    "testY = pd.read_csv(\"output.csv\")\n",
    "testData['stroke'] = testY['stroke']\n",
    "trainData = pd.read_csv(\"train.csv\")\n",
    "\n",
    "#Not Significant for Strokes\n",
    "\n",
    "trainData = trainData.drop( columns=['ever_married', 'gender', 'id'] )\n",
    "testData = testData.drop( columns=['ever_married', 'gender', 'id'] )\n",
    "\n",
    "#Filling Missing BMI Data === train\n",
    "\n",
    "temp = trainData['bmi'].mean() + trainData['bmi'].median()\n",
    "temp /= 2\n",
    "temp\n",
    "trainData['bmi'] = trainData['bmi'].fillna(temp)\n",
    "trainData['smoking_status'] = trainData['smoking_status'].fillna(\"unknown\")\n",
    "\n",
    "#Filling Missing BMI Data ===test\n",
    "\n",
    "temp = testData['bmi'].mean() + testData['bmi'].median()\n",
    "temp /= 2\n",
    "temp\n",
    "testData['bmi'] = testData['bmi'].fillna(temp)\n",
    "testData['smoking_status'] = testData['smoking_status'].fillna(\"unknown\")"
   ]
  },
  {
   "cell_type": "code",
   "execution_count": 2,
   "metadata": {},
   "outputs": [
    {
     "data": {
      "text/plain": [
       "Counter({0: 56267, 1: 5734})"
      ]
     },
     "execution_count": 2,
     "metadata": {},
     "output_type": "execute_result"
    }
   ],
   "source": [
    "data = trainData.append(testData)\n",
    "\n",
    "from collections import Counter\n",
    "\n",
    "Counter( data['stroke'] )"
   ]
  },
  {
   "cell_type": "code",
   "execution_count": 68,
   "metadata": {},
   "outputs": [],
   "source": [
    "data.to_csv(path_or_buf='data.csv')"
   ]
  },
  {
   "cell_type": "code",
   "execution_count": 32,
   "metadata": {},
   "outputs": [],
   "source": [
    "from sklearn.model_selection import train_test_split\n",
    "\n",
    "#Train Splitter\n",
    "\n",
    "x_train, x_test, y_train, y_test = train_test_split(data.drop( columns=['stroke'] ),\n",
    "                                                    np.ravel( data['stroke'] , order='C' )  ,\n",
    "                                                    test_size=0.25, random_state=0)"
   ]
  },
  {
   "cell_type": "code",
   "execution_count": 33,
   "metadata": {},
   "outputs": [
    {
     "name": "stdout",
     "output_type": "stream",
     "text": [
      "Index(['age', 'hypertension', 'heart_disease', 'work_type', 'Residence_type',\n",
      "       'avg_glucose_level', 'bmi', 'smoking_status'],\n",
      "      dtype='object')\n"
     ]
    }
   ],
   "source": [
    "# print( Counter( y_train ) )\n",
    "# print( Counter( y_test ) )\n",
    "print( x_train.columns )"
   ]
  },
  {
   "cell_type": "code",
   "execution_count": 4,
   "metadata": {},
   "outputs": [],
   "source": [
    "#Train Data\n",
    "\n",
    "x_train = pd.get_dummies( x_train, \n",
    "                             columns=[ 'work_type' , 'Residence_type', 'smoking_status']\n",
    "                            , prefix= ['work_type' , 'res_type', 'smoke'] )\n",
    "\n",
    "\n",
    "#Test Data\n",
    "x_test = pd.get_dummies( x_test,\n",
    "                             columns=[ 'work_type' , 'Residence_type', 'smoking_status']\n",
    "                            , prefix= ['work_type' , 'res_type', 'smoke'] )\n",
    "\n"
   ]
  },
  {
   "cell_type": "code",
   "execution_count": 5,
   "metadata": {},
   "outputs": [],
   "source": [
    "#Sampling for removing imbalance\n",
    "\n",
    "from imblearn.over_sampling import SMOTE,RandomOverSampler,ADASYN\n",
    "smote = RandomOverSampler(random_state=0)\n",
    "\n",
    "xcols = x_train.columns\n",
    "x_train, y_train = smote.fit_sample(x_train, y_train)\n",
    "\n",
    "x_train = pd.DataFrame( x_train , columns=xcols )\n",
    "y_train = pd.DataFrame( y_train , columns=['stroke'] )"
   ]
  },
  {
   "cell_type": "code",
   "execution_count": 15,
   "metadata": {},
   "outputs": [],
   "source": [
    "from sklearn.preprocessing import StandardScaler\n",
    "\n",
    "scaler = StandardScaler()\n",
    "scaler.fit(x_train)\n",
    "x_train = scaler.transform(x_train)\n",
    "x_test = scaler.transform(x_test)"
   ]
  },
  {
   "cell_type": "code",
   "execution_count": 16,
   "metadata": {},
   "outputs": [],
   "source": [
    "import warnings\n",
    "warnings.filterwarnings(\"ignore\")"
   ]
  },
  {
   "cell_type": "code",
   "execution_count": 31,
   "metadata": {},
   "outputs": [
    {
     "name": "stdout",
     "output_type": "stream",
     "text": [
      " using alpha = 0.00038\n",
      "0.6076382168892329\n",
      "[[8826 5207]\n",
      " [ 875  593]]\n",
      "**********************\n"
     ]
    }
   ],
   "source": [
    "#SVM\n",
    "from sklearn import metrics\n",
    "from sklearn.neural_network import MLPClassifier\n",
    "\n",
    "alpha = 0.00038\n",
    "print(\" using alpha =\" , alpha)\n",
    "model = MLPClassifier(solver='lbfgs',alpha=alpha)\n",
    "\n",
    "model.fit(x_train, y_train)\n",
    "\n",
    "\n",
    "predictions = model.predict(x_test)\n",
    "\n",
    "print(model.score(x_test, y_test))\n",
    "print(metrics.confusion_matrix(y_test, predictions))\n",
    "print(\"**********************\")\n",
    "    \n"
   ]
  },
  {
   "cell_type": "code",
   "execution_count": null,
   "metadata": {},
   "outputs": [],
   "source": [
    "\"\"\"\n",
    "0.000085\n",
    "\n",
    "0.6274433907489839\n",
    "[[9174 4859]\n",
    " [ 916  552]]\n",
    "\n",
    "**********************\n",
    "\n",
    " using alpha = 0.00038\n",
    "0.6076382168892329\n",
    "[[8826 5207]\n",
    " [ 875  593]]\n",
    "**********************\n",
    "\n",
    "\n",
    "\n",
    "\"\"\""
   ]
  },
  {
   "cell_type": "code",
   "execution_count": 34,
   "metadata": {},
   "outputs": [
    {
     "data": {
      "text/plain": [
       "['nosplit.joblib']"
      ]
     },
     "execution_count": 34,
     "metadata": {},
     "output_type": "execute_result"
    }
   ],
   "source": [
    "from joblib import dump\n",
    "\n",
    "dump(model , 'nosplit.joblib')"
   ]
  },
  {
   "cell_type": "code",
   "execution_count": 8,
   "metadata": {},
   "outputs": [
    {
     "data": {
      "text/plain": [
       "Counter({0: 14033, 1: 1468})"
      ]
     },
     "execution_count": 8,
     "metadata": {},
     "output_type": "execute_result"
    }
   ],
   "source": [
    "Counter(y_test)"
   ]
  },
  {
   "cell_type": "code",
   "execution_count": 44,
   "metadata": {},
   "outputs": [
    {
     "name": "stdout",
     "output_type": "stream",
     "text": [
      "0.5919618089155538\n",
      "[[8480 5553]\n",
      " [ 772  696]]\n"
     ]
    }
   ],
   "source": [
    "## RidgeClassifier\n",
    "\n",
    "from sklearn import linear_model\n",
    "\n",
    "model = linear_model.RidgeClassifier()\n",
    "\n",
    "model.fit(x_train, y_train)\n",
    "\n",
    "\n",
    "predictions = model.predict(x_test)\n",
    "\n",
    "print(model.score(x_test, y_test))\n",
    "print(metrics.confusion_matrix(y_test, predictions))\n"
   ]
  },
  {
   "cell_type": "code",
   "execution_count": 66,
   "metadata": {},
   "outputs": [
    {
     "name": "stdout",
     "output_type": "stream",
     "text": [
      "0.5920263208825237\n",
      "[[8481 5552]\n",
      " [ 772  696]]\n"
     ]
    }
   ],
   "source": [
    "#Logistic Reg\n",
    "\n",
    "from sklearn.linear_model import LogisticRegression as LR\n",
    "\n",
    "model = LR()\n",
    "\n",
    "good = ['age', 'avg_glucose_level',\n",
    "        'bmi', 'work_type_Private', 'res_type_Urban', 'smoke_never smoked', 'smoke_smokes', 'smoke_unknown']\n",
    "\n",
    "X = x_train\n",
    "x = x_test\n",
    "model.fit(X, y_train)\n",
    "\n",
    "\n",
    "predictions = model.predict(x)\n",
    "\n",
    "print(model.score(x, y_test))\n",
    "print(metrics.confusion_matrix(y_test, predictions))"
   ]
  },
  {
   "cell_type": "code",
   "execution_count": 57,
   "metadata": {},
   "outputs": [
    {
     "name": "stdout",
     "output_type": "stream",
     "text": [
      "Selected features: ['age', 'hypertension', 'avg_glucose_level', 'bmi', 'work_type_Govt_job', 'work_type_Private', 'work_type_Self-employed', 'res_type_Urban', 'smoke_formerly smoked', 'smoke_never smoked', 'smoke_smokes', 'smoke_unknown']\n"
     ]
    }
   ],
   "source": [
    "from sklearn.tree import DecisionTreeClassifier\n",
    "from sklearn.feature_selection import RFE\n",
    "\n",
    "model = DecisionTreeClassifier()\n",
    "# create the RFE model and select 8 attributes\n",
    "rfe = RFE(model, 12)\n",
    "rfe = rfe.fit(x_train, y_train)\n",
    "# summarize the selection of the attributes\n",
    "print('Selected features: %s' % list(x_train.columns[rfe.support_]))"
   ]
  },
  {
   "cell_type": "code",
   "execution_count": 62,
   "metadata": {},
   "outputs": [
    {
     "name": "stdout",
     "output_type": "stream",
     "text": [
      "0.8271079285207406\n",
      "[[12674  1359]\n",
      " [ 1321   147]]\n"
     ]
    }
   ],
   "source": [
    "good = ['age', 'avg_glucose_level',\n",
    "        'bmi', 'work_type_Private', 'res_type_Urban', 'smoke_never smoked', 'smoke_smokes', 'smoke_unknown']\n",
    "\n",
    "\n",
    "X = x_train\n",
    "x = x_test\n",
    "model.fit(X, y_train)\n",
    "\n",
    "\n",
    "predictions = model.predict(x)\n",
    "\n",
    "print(model.score(x, y_test))\n",
    "print(metrics.confusion_matrix(y_test, predictions))"
   ]
  }
 ],
 "metadata": {
  "kernelspec": {
   "display_name": "Python 3",
   "language": "python",
   "name": "python3"
  },
  "language_info": {
   "codemirror_mode": {
    "name": "ipython",
    "version": 3
   },
   "file_extension": ".py",
   "mimetype": "text/x-python",
   "name": "python",
   "nbconvert_exporter": "python",
   "pygments_lexer": "ipython3",
   "version": "3.6.8"
  }
 },
 "nbformat": 4,
 "nbformat_minor": 2
}
