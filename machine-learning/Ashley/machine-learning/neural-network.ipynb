{
 "cells": [
  {
   "cell_type": "code",
   "execution_count": 1,
   "metadata": {},
   "outputs": [],
   "source": [
    "# Project Name: AI Based Early Stroke Detection \n",
    "# Author List: Nehal Kalnad,Ashley Lobo, e-Yantra Team \n",
    "# Filename: neural-network.ipynb\n",
    "# Functions: imblearn.over_sampling.smote.fit_sample ,sklearn.preprocessing.StandardScaler, sklearn.neural_network.MLPClassifier.predict\n",
    "# Global Variables:testData,testY,trainData,temp,scaler,trainDataNS,trainDataS,testDataNS,testDataS,xTrainDataNS,yTrainDataNS,model,predictions, \n",
    "#                  xTrainDataS,yTrainDataS,smokeCol,nsmokeCol,x_train,x_test,y_train,y_test,x_trainS,x_testS,y_trainS,y_testS\n",
    "\n",
    "import pandas as pd\n",
    "import numpy as np\n",
    "from sklearn import metrics\n",
    "from sklearn.model_selection import train_test_split\n",
    "\n",
    "#Plot\n",
    "import matplotlib.pyplot as plt \n",
    "plt.rc(\"font\", size=14)\n",
    "import seaborn as sns\n",
    "sns.set(style=\"white\") #white background style for seaborn plots\n",
    "sns.set(style=\"whitegrid\", color_codes=True)\n",
    "\n",
    "# Data set obtained from\n",
    "# https://www.kaggle.com/asaumya/healthcare-dataset-stroke-data\n",
    "\n",
    "testData = pd.read_csv(\"data/test.csv\")\n",
    "testY = pd.read_csv(\"data/output.csv\")\n",
    "testData['stroke'] = testY['stroke']\n",
    "trainData = pd.read_csv(\"data/train.csv\")\n",
    "\n",
    "#Not Significant for Strokes\n",
    "\n",
    "trainData = trainData.drop( columns=['ever_married', 'gender', 'id','avg_glucose_level'] )\n",
    "testData = testData.drop( columns=['ever_married', 'gender', 'id','avg_glucose_level'] )\n",
    "\n",
    "#Filling Missing BMI Data === train\n",
    "\n",
    "temp = trainData['bmi'].mean() + trainData['bmi'].median()\n",
    "temp /= 2\n",
    "temp\n",
    "trainData['bmi'] = trainData['bmi'].fillna(temp)\n",
    "\n",
    "#Filling Missing BMI Data ===test\n",
    "\n",
    "temp = testData['bmi'].mean() + testData['bmi'].median()\n",
    "temp /= 2\n",
    "temp\n",
    "testData['bmi'] = testData['bmi'].fillna(temp)\n",
    "\n",
    "# Segregating into Two Models Smoking & Non-Smoking\n",
    "\n",
    "\n",
    "trainDataS = trainData[ trainData['smoking_status'].notna() ]\n",
    "testDataS = testData[ testData['smoking_status'].notna() ]\n",
    "\n",
    "# X and Y division\n",
    "\n",
    "yTrainDataS = trainDataS['stroke']\n",
    "xTrainDataS = trainDataS.drop( columns=['stroke'] )\n",
    "\n",
    "yTestDataS = testDataS['stroke']\n",
    "xTestDataS = testDataS.drop( columns=['stroke'] )\n",
    "\n",
    "#Nominal Categories to one-hot encoding === Train\n",
    "\n",
    "#Smoke Data\n",
    "xTrainDataS = pd.get_dummies( xTrainDataS, \n",
    "                             columns=[ 'work_type' , 'Residence_type', 'smoking_status']\n",
    "                            , prefix= ['work_type' , 'res_type', 'smoke'] )\n",
    "\n",
    "\n",
    "#Nominal Categories to one-hot encoding ===Test\n",
    "\n",
    "#Smoke Data\n",
    "xTestDataS = pd.get_dummies( xTestDataS,\n",
    "                            columns=['work_type' , 'Residence_type', 'smoking_status']\n",
    "                            , prefix=['work_type' , 'res_type', 'smoke'] )\n",
    "\n",
    "\n",
    "\n",
    "\n",
    "smokeCol = xTrainDataS.columns\n",
    "# nsmokeCol = xTrainDataNS.columns\n",
    "\n",
    "\n",
    "#Sampling for removing imbalance\n",
    "\n",
    "\n",
    "# Function Name:imblearn.over_sampling.smote.fit_sample \n",
    "# Input:X:{array-like, sparse matrix}, shape (n_samples, n_features)\n",
    "#               y:array-like, shape (n_samples,) \n",
    "# Output:X_resampled:{array-like, sparse matrix}, shape (n_samples_new, n_features) \n",
    "#               y_resampled:array-like, shape (n_samples_new,) \n",
    "# Logic:Used to balance dataset\n",
    "# Example Call: X_res, y_res = sm.fit_sample(X, y) \n",
    "\n",
    "from imblearn.over_sampling import SMOTE,RandomOverSampler,ADASYN\n",
    "smote = RandomOverSampler(random_state=0)\n",
    "\n",
    "\n",
    "xTrainDataS, yTrainDataS = smote.fit_sample(xTrainDataS, yTrainDataS)\n",
    "\n",
    "xTrainDataS = pd.DataFrame( xTrainDataS , columns=smokeCol )\n",
    "yTrainDataS = pd.DataFrame( yTrainDataS , columns=['stroke'])"
   ]
  },
  {
   "cell_type": "code",
   "execution_count": 2,
   "metadata": {},
   "outputs": [],
   "source": [
    "from sklearn.model_selection import train_test_split\n",
    "\n",
    "#Train Splitter\n",
    "\n",
    "x_trainS, x_testS, y_trainS, y_testS = train_test_split(xTrainDataS, np.ravel( yTrainDataS , order='C' ),\n",
    "                                                        test_size=0.35, random_state=0)"
   ]
  },
  {
   "cell_type": "code",
   "execution_count": 3,
   "metadata": {},
   "outputs": [],
   "source": [
    "from sklearn.preprocessing import StandardScaler\n",
    "import warnings\n",
    "warnings.filterwarnings('ignore')\n",
    "import sys\n",
    "\n",
    "# Function Name:sklearn.preprocessing.StandardScaler, \n",
    "# Input: X : array-like, shape [n_samples, n_features]         \n",
    "# Output:\n",
    "# Logic:Perform standardization by centering and scaling\n",
    "# Example Call: scaler.transform(x_test)\n",
    "\n",
    "\n",
    "scaler = StandardScaler()\n",
    "scaler.fit(x_trainS)\n",
    "\n",
    "x_trainS = scaler.transform(x_trainS)\n",
    "x_testS = scaler.transform(x_testS)\n",
    "xTestDataS = scaler.transform( xTestDataS )\n"
   ]
  },
  {
   "cell_type": "code",
   "execution_count": 4,
   "metadata": {
    "scrolled": true
   },
   "outputs": [
    {
     "name": "stdout",
     "output_type": "stream",
     "text": [
      "0.8844830093557613\n",
      "[[8327 1941]\n",
      " [ 442 9919]]\n"
     ]
    },
    {
     "data": {
      "text/plain": [
       "'\\n \\n0.9208395947452616\\n[[ 8687  1581]\\n [   52 10309]]\\n0.6601556420233463\\n[[7998 1445]\\n [2922  485]]\\n\\n\\n\\n'"
      ]
     },
     "execution_count": 4,
     "metadata": {},
     "output_type": "execute_result"
    }
   ],
   "source": [
    "#MLP\n",
    "\n",
    "from sklearn.neural_network import MLPClassifier\n",
    "\n",
    "sModel = MLPClassifier( hidden_layer_sizes=(16,64,64) , max_iter=300 , alpha=0.00008 )\n",
    "\n",
    "\n",
    "sModel.fit(x_trainS, y_trainS)\n",
    "\n",
    "\n",
    "# Function Name:sklearn.neural_network.MLPClassifier.predict, \n",
    "# Input:X : {array-like, sparse matrix}, shape (n_samples, n_features)              \n",
    "# Output:y : array-like, shape (n_samples,) or (n_samples, n_classes)\n",
    "# Logic:Predict using the multi-layer perceptron classifier\n",
    "# Example Call: X_res= sModel.preditc(X), \n",
    "\n",
    "#Synthetic Test\n",
    "\n",
    "predictions = sModel.predict(x_testS)\n",
    "print(sModel.score(x_testS, y_testS))\n",
    "print(metrics.confusion_matrix(y_testS, predictions))\n",
    "\n",
    "\n",
    "#Blind Test\n",
    "\n",
    "predictions = sModel.predict(xTestDataS)\n",
    "print(sModel.score(xTestDataS, yTestDataS))\n",
    "print(metrics.confusion_matrix(yTestDataS, predictions))\n",
    "\n",
    "\n",
    "\n",
    "\n",
    "\"\"\"\n",
    " \n",
    "0.9208395947452616\n",
    "[[ 8687  1581]\n",
    " [   52 10309]]\n",
    "0.6601556420233463\n",
    "[[7998 1445]\n",
    " [2922  485]]\n",
    "\n",
    "\n",
    "\n",
    "\"\"\"\n"
   ]
  },
  {
   "cell_type": "code",
   "execution_count": 6,
   "metadata": {
    "scrolled": false
   },
   "outputs": [
    {
     "name": "stdout",
     "output_type": "stream",
     "text": [
      "[0 0 0 ... 1 1 0]\n",
      "0.7786770428015565\n",
      "[[8396  793]\n",
      " [2051 1610]]\n"
     ]
    }
   ],
   "source": [
    "predictions = sModel.predict(xTestDataS)\n",
    "print(predictions)\n",
    "\n",
    "# for i in range(0,len(predictions)):\n",
    "#     if(predictions[i]==1):\n",
    "#         print(i)\n",
    "print(sModel.score(xTestDataS, yTestDataS))\n",
    "print(metrics.confusion_matrix(yTestDataS, predictions))"
   ]
  },
  {
   "cell_type": "code",
   "execution_count": null,
   "metadata": {},
   "outputs": [],
   "source": []
  },
  {
   "cell_type": "code",
   "execution_count": null,
   "metadata": {},
   "outputs": [],
   "source": []
  }
 ],
 "metadata": {
  "kernelspec": {
   "display_name": "Python 3",
   "language": "python",
   "name": "python3"
  },
  "language_info": {
   "codemirror_mode": {
    "name": "ipython",
    "version": 3
   },
   "file_extension": ".py",
   "mimetype": "text/x-python",
   "name": "python",
   "nbconvert_exporter": "python",
   "pygments_lexer": "ipython3",
   "version": "3.6.5"
  }
 },
 "nbformat": 4,
 "nbformat_minor": 2
}
